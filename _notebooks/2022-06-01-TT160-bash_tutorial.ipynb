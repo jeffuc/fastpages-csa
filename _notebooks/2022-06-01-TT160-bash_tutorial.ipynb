{
 "cells": [
  {
   "cell_type": "markdown",
   "metadata": {},
   "source": [
    "# Bash Tutorial\n",
    "> A brief overview of Bash, on your way to becoming a Linux expert.  When a computer boots up, a kernel (MacOS, Windows, Linux) is started.  This kernel provides a shell that allows user to interact with a most basic set of commands.  Typically, the casual user will not interact with the shell as a Desktop User Interface is started by the computer boot up process.  To activate the shell directly, users will run a \"terminal\" through the Desktop, VS Code or activate \"console\" while on a cloud computer like AWS.\n",
    "\n",
    "- toc: true\n",
    "- comments: true\n",
    "- permalink: /techtalk/bash\n",
    "- image: /images/bash.jpeg\n",
    "- categories: [techtalk]"
   ]
  },
  {
   "cell_type": "markdown",
   "metadata": {},
   "source": [
    "## Prerequisites for Bash on Jupyter\n",
    "> Install the Bash Kernel for Jupyter notebooks.  I used pip3 and python3 and both were in my path.  This allowed me to build this tutorial.\n",
    "\n",
    "- pip install bash_kernel\n",
    "- python -m bash_kernel.install\n",
    "\n",
    "Selecting a kernel should now have bash in options.\n",
    "![](images/kernels.png)"
   ]
  },
  {
   "cell_type": "markdown",
   "metadata": {},
   "source": [
    "## Files and Directories\n",
    "> All computers contain files and directories.  Using the bash shell you will see some commands that show and interact with files and directories.\n",
    "\n",
    "- \"ls\" lists computer files in Unix and Unix-like operating systems\n",
    "- \"cd\" offers way to navigate and change working directory\n",
    "- \"pwd\" print working directory\n",
    "- \"echo\" used to display line of text/string that are passed as an argument\n",
    "- \"cat\" reads data from the file and gives its content as output\n",
    "- \"env\" prints the environment variables of the shell"
   ]
  },
  {
   "cell_type": "code",
   "execution_count": null,
   "metadata": {
    "vscode": {
     "languageId": "shellscript"
    }
   },
   "outputs": [],
   "source": [
    "echo \"print my project directory (~) and show contents in directory\"\n",
    "cd ~/vscode/APCSP/_notebooks/\n",
    "pwd\n",
    "ls"
   ]
  },
  {
   "cell_type": "code",
   "execution_count": null,
   "metadata": {
    "vscode": {
     "languageId": "shellscript"
    }
   },
   "outputs": [],
   "source": [
    "echo \"change directory, print working directory, list files\"\n",
    "cd images\n",
    "pwd\n",
    "ls\n",
    "echo \"\"\n",
    "echo \"change directory back one level, print working directory, list files in long format\"\n",
    "cd ..\n",
    "pwd\n",
    "ls -l"
   ]
  },
  {
   "cell_type": "code",
   "execution_count": null,
   "metadata": {
    "vscode": {
     "languageId": "shellscript"
    }
   },
   "outputs": [],
   "source": [
    "echo \"show the contents of README.md\"\n",
    "echo \"\"\n",
    "\n",
    "cat README.md"
   ]
  },
  {
   "cell_type": "code",
   "execution_count": null,
   "metadata": {
    "vscode": {
     "languageId": "shellscript"
    }
   },
   "outputs": [],
   "source": [
    "echo \"show the shell environment variables\"\n",
    "echo \"\"\n",
    "\n",
    "env"
   ]
  },
  {
   "cell_type": "markdown",
   "metadata": {},
   "source": [
    "### In Terminal on MacOS\n",
    "> Practice pulling code from git to your machine.  After you do this you should be able to navigate to the files.  As of this writing git clone did not work well in jupyter bash kernel.\n",
    "\n",
    "```bash\n",
    "cd /Users/johnmortensen/Downloads\n",
    "git clone https://github.com/nighthawkcoders/flask_portfolio.git\n",
    "```"
   ]
  },
  {
   "cell_type": "code",
   "execution_count": null,
   "metadata": {
    "vscode": {
     "languageId": "shellscript"
    }
   },
   "outputs": [],
   "source": [
    "echo \"navigate to downloads, then navigate to area wwhere files were cloned\"\n",
    "cd ~/Downloads\n",
    "cd flask_portfolio\n",
    "pwd\n",
    "\n",
    "echo \"\"\n",
    "echo \"list files pulled from github\"\n",
    "ls\n",
    "\n",
    "echo \"\"\n",
    "echo \"list with hidden files pulled from github\"\n",
    "ls -a\n"
   ]
  },
  {
   "cell_type": "markdown",
   "metadata": {},
   "source": [
    "### Deployment and GitHub\n",
    "> GitHub is NOT Only used to exchange code between individuals, it IS used to exchange code through deployment.   \n",
    "\n",
    "- \"github clone\" sets up a director of files\n",
    "- \"cd flaskportfolio\" allows user or machine to be inside that directory of files\n",
    "- \".git\" is a directory that is used by git to establish relationship between machine and the git server on GitHub.  \n",
    "\n",
    "All tools we use have a behind the scenes relationship with the system they run on (MacOS, Windows, Linus) or servers which they are connected to (GitHub).  Note the variable names and values, similar to \"env\" command.  The format of .git/config and env may be different, but the key/value concept is the same."
   ]
  },
  {
   "cell_type": "code",
   "execution_count": null,
   "metadata": {
    "vscode": {
     "languageId": "shellscript"
    }
   },
   "outputs": [],
   "source": [
    "cd ~/Downloads\n",
    "cd flask_portfolio\n",
    "\n",
    "echo \"\"\n",
    "echo \"show the secrets of .git\"\n",
    "cd .git\n",
    "ls -l\n",
    "\n",
    "echo \"\"\n",
    "echo \"look at config file\"\n",
    "cat config"
   ]
  },
  {
   "cell_type": "markdown",
   "metadata": {},
   "source": [
    "## Hacks\n",
    "Learning how to run this demo on your machine will require some setup.\n",
    "\n",
    "- \"mkdir\" is a command that allows you to make a new directory.  To run this demo you would need to:\n",
    "    - mkdir ~/vsProjects\n",
    "- \"git clone\" add the APCSP project into this directory\n",
    "- \"cd ~\" this command on my machine is shorthand for cd /Users/johnmortensen.  On your machine it would replace your username for mine."
   ]
  }
 ],
 "metadata": {
  "kernelspec": {
   "display_name": "Bash",
   "language": "bash",
   "name": "bash"
  },
  "language_info": {
   "codemirror_mode": "shell",
   "file_extension": ".sh",
   "mimetype": "text/x-sh",
   "name": "bash"
  },
  "vscode": {
   "interpreter": {
    "hash": "8b82d5009c68ba5675978267e2b13a671f2a7143d61273c5a3813c97e0b2493d"
   }
  }
 },
 "nbformat": 4,
 "nbformat_minor": 2
}
